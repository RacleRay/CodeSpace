{
 "cells": [
  {
   "cell_type": "markdown",
   "metadata": {},
   "source": [
    "### 求逆序对"
   ]
  },
  {
   "cell_type": "code",
   "execution_count": 3,
   "metadata": {},
   "outputs": [],
   "source": [
    "from random import randint\n",
    "import timeit"
   ]
  },
  {
   "cell_type": "code",
   "execution_count": 6,
   "metadata": {},
   "outputs": [],
   "source": [
    "def mergeSortForInversion(alist):\n",
    "    IN = 0\n",
    "    if len(alist) > 1:\n",
    "        mid = len(alist) // 2\n",
    "        left = alist[:mid]\n",
    "        right = alist[mid:]\n",
    "        \n",
    "        LeftIN = mergeSortForInversion(left)\n",
    "        RightIN = mergeSortForInversion(right)\n",
    "        IN = LeftIN + RightIN\n",
    "        \n",
    "        i, j, k = 0, 0, 0\n",
    "        while i < len(left) and j < len(right):\n",
    "            if left[i] <= right[j]:\n",
    "                alist[k] = left[i]\n",
    "                i += 1\n",
    "            else:\n",
    "                IN = IN + len(left) - i  # 左右已排序好，如果left[i] > right[j], 那么left[i]之后的也大于right[j]\n",
    "                alist[k] = right[j]\n",
    "                j += 1\n",
    "            k += 1\n",
    "        \n",
    "        while i < len(left):\n",
    "            alist[k] = left[i]\n",
    "            k += 1\n",
    "            i += 1\n",
    "        \n",
    "        while j < len(right):\n",
    "            alist[k] = right[j]\n",
    "            k += 1\n",
    "            j += 1\n",
    "    return IN"
   ]
  },
  {
   "cell_type": "code",
   "execution_count": 7,
   "metadata": {},
   "outputs": [
    {
     "name": "stdout",
     "output_type": "stream",
     "text": [
      "逆序对的数量: 2498547034\n"
     ]
    }
   ],
   "source": [
    "max = 100000\n",
    "list = [randint(-max, max) for x in range(max)]\n",
    "print('逆序对的数量: %s' % mergeSortForInversion(list))"
   ]
  },
  {
   "cell_type": "markdown",
   "metadata": {},
   "source": [
    "### 求解数组中第N大元素"
   ]
  },
  {
   "cell_type": "code",
   "execution_count": 27,
   "metadata": {},
   "outputs": [],
   "source": [
    "def partition_2(alist, l, r):\n",
    "    \"\"\"双路快速排序的partition，找到pivot坐标\"\"\"\n",
    "    if l == r:\n",
    "        return l \n",
    "    rand_i = randint(l, r)\n",
    "    alist[r], alist[rand_i] = alist[rand_i], alist[r]   # 优化：防止近乎有序数组退化\n",
    "    pivot = alist[r]\n",
    "    \n",
    "    i = l; j = r-1\n",
    "    while True:\n",
    "        # arr[l...i) <= pivot; arr(j...r-1] >= pivot\n",
    "        while i <= r-1 and alist[i] < pivot:  # no swap\n",
    "            i += 1\n",
    "        while j >= l and alist[j] > pivot:    # no swap\n",
    "            j -= 1\n",
    "        if i > j:\n",
    "            break\n",
    "        # i:此时>=pivot  j:此时<=pivot\n",
    "        alist[i], alist[j] = alist[j], alist[i]\n",
    "        i += 1  # 指向下一个需要处理的元素\n",
    "        j -= 1  # 指向下一个需要处理的元素\n",
    "        \n",
    "    alist[r], alist[i] = alist[i], alist[r]\n",
    "    # i是>pivot的index，j相反\n",
    "    return i\n",
    "\n",
    "def quickFind(alist, l, r, n):\n",
    "    p = partition_2(alist, l, r)  # p是pivot元素的exact位置index(从小到大)\n",
    "    if n > p:\n",
    "        return quickFind(alist, p+1, r, n)\n",
    "    elif n < p:\n",
    "        return quickFind(alist, l, p-1, n)\n",
    "    else:\n",
    "        return alist[p]\n",
    "        \n",
    "def findN(alist, n):\n",
    "    # 第N大，即第len(alist)-n小\n",
    "    N = quickFind(alist, 0, len(alist)-1, len(alist)-n)\n",
    "    return N"
   ]
  },
  {
   "cell_type": "code",
   "execution_count": 30,
   "metadata": {
    "scrolled": true
   },
   "outputs": [
    {
     "name": "stdout",
     "output_type": "stream",
     "text": [
      "99996\n"
     ]
    }
   ],
   "source": [
    "list = [randint(-max,max) for x in range(max)]\n",
    "N = findN(list, 3)\n",
    "print(N)"
   ]
  }
 ],
 "metadata": {
  "kernelspec": {
   "display_name": "Python 3",
   "language": "python",
   "name": "python3"
  },
  "language_info": {
   "codemirror_mode": {
    "name": "ipython",
    "version": 3
   },
   "file_extension": ".py",
   "mimetype": "text/x-python",
   "name": "python",
   "nbconvert_exporter": "python",
   "pygments_lexer": "ipython3",
   "version": "3.6.5"
  },
  "toc": {
   "base_numbering": 1,
   "nav_menu": {},
   "number_sections": true,
   "sideBar": true,
   "skip_h1_title": false,
   "title_cell": "Table of Contents",
   "title_sidebar": "Contents",
   "toc_cell": false,
   "toc_position": {},
   "toc_section_display": true,
   "toc_window_display": false
  },
  "varInspector": {
   "cols": {
    "lenName": 16,
    "lenType": 16,
    "lenVar": 40
   },
   "kernels_config": {
    "python": {
     "delete_cmd_postfix": "",
     "delete_cmd_prefix": "del ",
     "library": "var_list.py",
     "varRefreshCmd": "print(var_dic_list())"
    },
    "r": {
     "delete_cmd_postfix": ") ",
     "delete_cmd_prefix": "rm(",
     "library": "var_list.r",
     "varRefreshCmd": "cat(var_dic_list()) "
    }
   },
   "types_to_exclude": [
    "module",
    "function",
    "builtin_function_or_method",
    "instance",
    "_Feature"
   ],
   "window_display": false
  }
 },
 "nbformat": 4,
 "nbformat_minor": 2
}

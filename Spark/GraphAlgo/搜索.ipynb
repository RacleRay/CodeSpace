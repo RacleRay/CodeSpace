{
 "cells": [
  {
   "cell_type": "markdown",
   "metadata": {},
   "source": [
    "NOTE: 使用 graphframes 需要按照 https://spark-packages.org/package/graphframes/graphframes 方法，下载 对应 jar 包，否则没法使用 graphframes"
   ]
  },
  {
   "cell_type": "markdown",
   "metadata": {},
   "source": [
    "然后将 %HOMEPATH%\\.ivy2\\jars\\ 下载的 jar 文件，全部复制到 spark 安装目录下的 jars\\ 文件夹。"
   ]
  },
  {
   "cell_type": "markdown",
   "metadata": {},
   "source": [
    "NOTE 2: pyspark 版本，需要和 spark 版本一致，否则各种 bug"
   ]
  },
  {
   "cell_type": "code",
   "execution_count": 3,
   "metadata": {},
   "outputs": [],
   "source": [
    "import glob\n",
    "import os\n",
    "import sys\n",
    "\n",
    "from graphframes import *\n",
    "\n",
    "# from pyspark import SparkContext\n",
    "from pyspark import SparkConf\n",
    "from pyspark.context import SparkContext\n",
    "from pyspark.sql.session import SparkSession\n",
    "from pyspark.sql.types import *\n",
    "\n",
    "spark_home = \"D:/ProgramData/spark/spark-2.4.7-bin-hadoop2.7\"\n",
    "driver_home = \"D:/ProgramData/spark/spark-2.4.7-bin-hadoop2.7/jars\"\n",
    "\n",
    "if \"SPARK_HOME\" not in os.environ:\n",
    "    os.environ[\"SPARK_HOME\"] = spark_home\n",
    "\n",
    "SPARK_HOME = os.environ[\"SPARK_HOME\"]\n",
    "\n",
    "# from pyspark.sql import SQLContext\n",
    "\n",
    "conf = SparkConf()\n",
    "conf.set(\"spark.executor.memory\", \"8g\")\n",
    "conf.set(\"spark.driver.memory\", \"8g\")\n",
    "conf.set(\"spark.cores.max\", \"2\")\n",
    "conf.set(\"spark.task.maxDirectResultSize\", \"8g\")\n",
    "conf.set(\"spark.sql.autoBroadcastJoinThreshold\", \"-1\")\n",
    "conf.set(\"spark.sql.broadcastTimeout\", \"3000\")\n",
    "\n",
    "# conf.set(\"spark.driver.extraClassPath\",\n",
    "#     driver_home+'/jdbc/postgresql-9.4-1201-jdbc41.jar:'\\\n",
    "#     +driver_home+'/jdbc/clickhouse-jdbc-0.1.52.jar:'\\\n",
    "#     +driver_home+'/mongo/mongo-spark-connector_2.11-2.2.3.jar:'\\\n",
    "#     +driver_home+'/mongo/mongo-java-driver-3.8.0.jar')\n",
    "\n",
    "sc = SparkContext.getOrCreate(conf)\n",
    "spark = SparkSession(sc)"
   ]
  },
  {
   "cell_type": "code",
   "execution_count": 4,
   "metadata": {},
   "outputs": [],
   "source": [
    "def create_transport_graph():\n",
    "    node_fields = [\n",
    "        StructField(\"id\", StringType(), True),\n",
    "        StructField(\"latitude\", FloatType(), True),\n",
    "        StructField(\"longitude\", FloatType(), True),\n",
    "        StructField(\"population\", IntegerType(), True),\n",
    "    ]\n",
    "\n",
    "    nodes = spark.read.csv(\"data/transport-nodes.csv\",\n",
    "                           header=True,\n",
    "                           schema=StructType(node_fields))\n",
    "\n",
    "    relations = spark.read.csv(\"data/transport-relationships.csv\", header=True)\n",
    "\n",
    "    reversed_rels = (relations.withColumn(\"newSrc\", relations.dst).withColumn(\n",
    "        \"newDst\", relations.src).drop(\"dst\", \"src\").withColumnRenamed(\n",
    "            \"newSrc\",\n",
    "            \"src\").withColumnRenamed(\"newDst\",\n",
    "                                     \"dst\").select(\"src\", \"dst\", \"relationship\",\n",
    "                                                   \"cost\"))\n",
    "\n",
    "    relation_all = relations.union(reversed_rels)\n",
    "\n",
    "    return GraphFrame(nodes, relation_all)"
   ]
  },
  {
   "cell_type": "code",
   "execution_count": 5,
   "metadata": {},
   "outputs": [],
   "source": [
    "g = create_transport_graph()"
   ]
  },
  {
   "cell_type": "code",
   "execution_count": 6,
   "metadata": {},
   "outputs": [
    {
     "name": "stdout",
     "output_type": "stream",
     "text": [
      "+----------+--------+---------+----------+\n",
      "|        id|latitude|longitude|population|\n",
      "+----------+--------+---------+----------+\n",
      "|Colchester|51.88921|  0.90421|    104390|\n",
      "|   Ipswich|52.05917|  1.15545|    133384|\n",
      "+----------+--------+---------+----------+\n",
      "\n"
     ]
    }
   ],
   "source": [
    "(g.vertices.filter(\"population > 100000 and population < 300000\").sort(\n",
    "    \"population\").show())"
   ]
  },
  {
   "cell_type": "markdown",
   "metadata": {},
   "source": [
    "## SPARK 广度优先"
   ]
  },
  {
   "cell_type": "code",
   "execution_count": 7,
   "metadata": {},
   "outputs": [],
   "source": [
    "from_expr = \"id='Den Haag'\"\n",
    "to_expr = \"population > 100000 and population < 300000 and id <> 'Den Haag'\"\n",
    "result = g.bfs(from_expr, to_expr)"
   ]
  },
  {
   "cell_type": "code",
   "execution_count": 8,
   "metadata": {},
   "outputs": [
    {
     "name": "stdout",
     "output_type": "stream",
     "text": [
      "['from', 'e0', 'v1', 'e1', 'v2', 'e2', 'to']\n"
     ]
    }
   ],
   "source": [
    "print(result.columns)  # e 边    v 节点"
   ]
  },
  {
   "cell_type": "code",
   "execution_count": 9,
   "metadata": {},
   "outputs": [
    {
     "name": "stdout",
     "output_type": "stream",
     "text": [
      "+--------------------+--------------------+--------------------+--------------------+\n",
      "|                from|                  v1|                  v2|                  to|\n",
      "+--------------------+--------------------+--------------------+--------------------+\n",
      "|[Den Haag, 52.078...|[Hoek van Holland...|[Felixstowe, 51.9...|[Ipswich, 52.0591...|\n",
      "+--------------------+--------------------+--------------------+--------------------+\n",
      "\n"
     ]
    }
   ],
   "source": [
    "columns = [column for column in result.columns if not column.startswith(\"e\")]\n",
    "result.select(columns).show()"
   ]
  },
  {
   "cell_type": "markdown",
   "metadata": {},
   "source": [
    "## NEO4J 最短路径"
   ]
  },
  {
   "cell_type": "markdown",
   "metadata": {},
   "source": [
    "pip install neo4j-driver"
   ]
  },
  {
   "cell_type": "markdown",
   "metadata": {},
   "source": [
    "修改配置为：\n",
    "\n",
    "#dbms.directories.import=import\n",
    "\n",
    "dbms.security.allow_csv_import_from_file_urls=true\n",
    "\n",
    "\n",
    "工具包：\n",
    "\n",
    "dbms.security.procedures.unrestricted=apoc.\\*,gds.\\*\n",
    "\n",
    "dbms.security.procedures.whitelist=apoc.\\*,gds.\\*"
   ]
  },
  {
   "cell_type": "code",
   "execution_count": 2,
   "metadata": {},
   "outputs": [],
   "source": [
    "from neo4j import GraphDatabase\n",
    "\n",
    "CONFIG = {\n",
    "    \"uri\": \"bolt://localhost:7687\",\n",
    "    \"auth\": (\"neo4j\", \"123456\"),\n",
    "    \"encrypted\": False,\n",
    "}\n",
    "\n",
    "driver = GraphDatabase.driver(**CONFIG)"
   ]
  },
  {
   "cell_type": "code",
   "execution_count": 19,
   "metadata": {},
   "outputs": [],
   "source": [
    "def load_csv(context, path):\n",
    "    \"节点\"\n",
    "    context.run(\n",
    "        \"WITH $path_ AS uri \"\n",
    "        \"LOAD CSV WITH HEADERS FROM uri AS row \"\n",
    "        \"MERGE (place:Place {id:row.id}) \"\n",
    "        \"SET place.latitude = toFloat(row.latitude), place.longitude = toFloat(row.longitude), place.population = toInteger(row.population)\",\n",
    "        path_=path,\n",
    "    )\n",
    "\n",
    "\n",
    "with driver.session() as sess:\n",
    "    sess.write_transaction(\n",
    "        load_csv,\n",
    "        \"file:///D:/Code/Machine_Learing/Spark/GraphAlgo/data/transport-nodes.csv\",\n",
    "    )"
   ]
  },
  {
   "cell_type": "code",
   "execution_count": 20,
   "metadata": {},
   "outputs": [],
   "source": [
    "def load_rel_csv(context, path):\n",
    "    \"关系\"\n",
    "    context.run(\n",
    "        \"WITH $path_ AS uri \"\n",
    "        \"LOAD CSV WITH HEADERS FROM uri AS row \"\n",
    "        \"MATCH (origin:Place {id: row.src}) \"\n",
    "        \"MATCH (destination:Place {id: row.dst})\"\n",
    "        \"MERGE (origin)-[:EROAD {distance: toInteger(row.cost)}]->(destination)\",\n",
    "        path_=path,\n",
    "    )\n",
    "\n",
    "\n",
    "with driver.session() as sess:\n",
    "    sess.write_transaction(\n",
    "        load_rel_csv,\n",
    "        \"file:///D:/Code/Machine_Learing/Spark/GraphAlgo/data/transport-relationships.csv\",\n",
    "    )"
   ]
  },
  {
   "cell_type": "markdown",
   "metadata": {},
   "source": [
    "![img](./img/1.jpg)"
   ]
  },
  {
   "cell_type": "markdown",
   "metadata": {},
   "source": [
    "使用 Graph Data Science Library plugins 中的算法，所有算法默认是无向图，可手动设置 direction 为 \"OUTGOING\" \"INCOMING\""
   ]
  },
  {
   "cell_type": "code",
   "execution_count": null,
   "metadata": {},
   "outputs": [],
   "source": [
    "def load_to_memo(context):\n",
    "    \"gds 先创建内存数据投影\"\n",
    "    res = context.run('call gds.graph.create(\"shortPath\",\"Place\",\"EROAD\") '\n",
    "                      \"YIELD graphName, nodeCount, relationshipCount;\")\n",
    "    return res\n",
    "\n",
    "\n",
    "with driver.session() as sess:\n",
    "    res = sess.write_transaction(load_to_memo)\n",
    "    print(res)"
   ]
  },
  {
   "cell_type": "code",
   "execution_count": 41,
   "metadata": {},
   "outputs": [
    {
     "name": "stdout",
     "output_type": "stream",
     "text": [
      "[['Amsterdam', 0.0], ['Immingham', 1.0], ['Doncaster', 2.0], ['London', 3.0]]\n"
     ]
    }
   ],
   "source": [
    "def shortestpath(context):\n",
    "    res = context.run(\n",
    "        'MATCH (source:Place {id:\"Amsterdam\"}),(destination:Place {id:\"London\"}) '\n",
    "        \"CALL gds.alpha.shortestPath.stream({nodeProjection: 'Place', relationshipProjection: 'EROAD', startNode: source, endNode: destination, relationshipWeightProperty: null}) \"\n",
    "        \"YIELD nodeId, cost \"\n",
    "        \"RETURN gds.util.asNode(nodeId).id AS place, cost\")\n",
    "    values = []\n",
    "    for record in res:\n",
    "        values.append(record.values())\n",
    "    return values\n",
    "\n",
    "\n",
    "with driver.session() as sess:\n",
    "    res = sess.write_transaction(shortestpath)\n",
    "    print(res)"
   ]
  },
  {
   "cell_type": "code",
   "execution_count": 21,
   "metadata": {},
   "outputs": [
    {
     "name": "stdout",
     "output_type": "stream",
     "text": [
      "[['Amsterdam', 0.0], ['Den Haag', 59.0], ['Hoek van Holland', 86.0], ['Felixstowe', 293.0], ['Ipswich', 315.0], ['Colchester', 347.0], ['London', 453.0]]\n"
     ]
    }
   ],
   "source": [
    "def shortestpath(context):\n",
    "    \"加入 relationshipWeightProperty 作为 weight\"\n",
    "    res = context.run(\"\"\"\n",
    "                        MATCH (source:Place {id: \"Amsterdam\"}),\n",
    "                              (destination:Place {id: \"London\"})\n",
    "                        CALL gds.alpha.shortestPath.stream({\n",
    "                            nodeProjection: 'Place', \n",
    "                            relationshipProjection:{\n",
    "                                EROAD:{\n",
    "                                type: 'EROAD',\n",
    "                                properties: 'distance',\n",
    "                                orientation: 'UNDIRECTED'\n",
    "                                }},\n",
    "                            startNode: source,\n",
    "                            endNode: destination,\n",
    "                            relationshipWeightProperty: 'distance'\n",
    "                        })\n",
    "                        YIELD nodeId, cost\n",
    "                        RETURN gds.util.asNode(nodeId).id AS name, cost\n",
    "                        \"\"\")\n",
    "    values = []\n",
    "    for record in res:\n",
    "        values.append(record.values())\n",
    "    return values\n",
    "\n",
    "\n",
    "with driver.session() as sess:\n",
    "    res = sess.read_transaction(shortestpath)\n",
    "    print(res)"
   ]
  },
  {
   "cell_type": "markdown",
   "metadata": {},
   "source": [
    "## SPARK 加权最短路径"
   ]
  },
  {
   "cell_type": "code",
   "execution_count": 10,
   "metadata": {},
   "outputs": [],
   "source": [
    "from graphframes import *\n",
    "from graphframes.lib import AggregateMessages as AM\n",
    "from pyspark.sql import functions as F\n",
    "from pyspark.sql.types import *"
   ]
  },
  {
   "cell_type": "code",
   "execution_count": 11,
   "metadata": {},
   "outputs": [],
   "source": [
    "# 构建 源 与 目标 节点的路径\n",
    "add_path_udf = F.udf(lambda path, id: path + [id], ArrayType(StringType()))"
   ]
  },
  {
   "cell_type": "code",
   "execution_count": 12,
   "metadata": {},
   "outputs": [],
   "source": [
    "# g = create_transport_graph()"
   ]
  },
  {
   "cell_type": "code",
   "execution_count": 13,
   "metadata": {},
   "outputs": [],
   "source": [
    "def shortest_path(g, origin, destination, column_name=\"cost\"):\n",
    "    if g.vertices.filter(g.vertices.id == destination).count() == 0:\n",
    "        return (spark.createDataFrame(sc.emptyRDD(), g.vertices.schema)\n",
    "                .withColumn(\"path\", F.array()))\n",
    "\n",
    "    # 节点增加 visited 标记，初始化 与源节点的 distance，初始化 path array\n",
    "    vertices = (g.vertices.withColumn(\"visited\", F.lit(False))\n",
    "                .withColumn(\n",
    "                    \"distance\",\n",
    "                    F.when(g.vertices[\"id\"] == origin, 0).otherwise(float(\"inf\")))\n",
    "                .withColumn(\"path\", F.array()))\n",
    "\n",
    "    # 防止内存泄露，缓存在内存中\n",
    "    cached_vertices = AM.getCachedDataFrame(vertices)\n",
    "\n",
    "    g2 = GraphFrame(cached_vertices, g.edges)\n",
    "    while g2.vertices.filter(\"visited == False\").first():\n",
    "        current_node_id = (\n",
    "            g2.vertices.filter(\"visited == False\").sort(\"distance\").first().id)\n",
    "        \n",
    "        # 计算下一步可能的最短路径，记录 path\n",
    "        msg_distance = AM.edge[column_name] + AM.src[\"distance\"]\n",
    "        msg_path = add_path_udf(AM.src[\"path\"], AM.src[\"id\"])\n",
    "        msg_for_dst = F.when(AM.src[\"id\"] == current_node_id,\n",
    "                             F.struct(msg_distance, msg_path))\n",
    "        new_distances = g2.aggregateMessages(F.min(AM.msg).alias(\"aggMess\"),\n",
    "                                             sendToDst=msg_for_dst)\n",
    "        \n",
    "        # 标记 visit\n",
    "        new_visited_col = F.when(\n",
    "            g2.vertices.visited | (g2.vertices.id == current_node_id),\n",
    "            True).otherwise(False)\n",
    "        # 更新最短路径\n",
    "        new_distance_col = F.when(\n",
    "            new_distances[\"aggMess\"].isNotNull() &\n",
    "            (new_distances.aggMess[\"col1\"] < g2.vertices.distance),\n",
    "            new_distances.aggMess[\"col1\"],\n",
    "          ).otherwise(g2.vertices.distance)\n",
    "        # 更新 path\n",
    "        new_path_col = F.when(\n",
    "            new_distances[\"aggMess\"].isNotNull() &\n",
    "            (new_distances.aggMess[\"col1\"] < g2.vertices.distance),\n",
    "            new_distances.aggMess[\"col2\"].cast(\"array<string>\"),\n",
    "          ).otherwise(g2.vertices.path)\n",
    "        \n",
    "        # 更新vertice信息\n",
    "        new_vertices = (g2.vertices.join(new_distances, on=\"id\", how=\"left_outer\")\n",
    "                        .drop(new_distances[\"id\"])\n",
    "                        .withColumn(\"visited\", new_visited_col)\n",
    "                        .withColumn(\"newDistance\", new_distance_col)\n",
    "                        .withColumn(\"newPath\", new_path_col)\n",
    "                        .drop(\"aggMess\", \"distance\", \"path\")\n",
    "                        .withColumnRenamed('newDistance', 'distance')\n",
    "                        .withColumnRenamed('newPath', 'path'))\n",
    "        \n",
    "        cached_new_vertices = AM.getCachedDataFrame(new_vertices)\n",
    "        \n",
    "        g2 = GraphFrame(cached_new_vertices, g2.edges)\n",
    "        # 找到结果\n",
    "        if g2.vertices.filter(g2.vertices.id == destination).first().visited:\n",
    "            return (g2.vertices.filter(g2.vertices.id == destination)\n",
    "                    .withColumn(\"newPath\", add_path_udf(\"path\", \"id\"))\n",
    "                    .drop(\"visited\", \"path\")\n",
    "                    .withColumnRenamed(\"newPath\", \"path\"))\n",
    "    # 没有结果\n",
    "    return (spark.createDataFrame(sc.emptyRDD(), g.vertices.schema)\n",
    "            .withColumn(\"path\", F.array()))"
   ]
  },
  {
   "cell_type": "code",
   "execution_count": 14,
   "metadata": {},
   "outputs": [
    {
     "name": "stdout",
     "output_type": "stream",
     "text": [
      "+----------+--------+------------------------------------------------------------------------+\n",
      "|id        |distance|path                                                                    |\n",
      "+----------+--------+------------------------------------------------------------------------+\n",
      "|Colchester|347.0   |[Amsterdam, Den Haag, Hoek van Holland, Felixstowe, Ipswich, Colchester]|\n",
      "+----------+--------+------------------------------------------------------------------------+\n",
      "\n"
     ]
    }
   ],
   "source": [
    "result = shortest_path(g, \"Amsterdam\", \"Colchester\", \"cost\")\n",
    "result.select(\"id\", \"distance\", \"path\").show(truncate=False)"
   ]
  },
  {
   "cell_type": "markdown",
   "metadata": {},
   "source": [
    "## NEO4J A*"
   ]
  },
  {
   "cell_type": "code",
   "execution_count": 15,
   "metadata": {},
   "outputs": [],
   "source": [
    "from neo4j import GraphDatabase\n",
    "\n",
    "CONFIG = {\n",
    "    \"uri\": \"bolt://localhost:7687\",\n",
    "    \"auth\": (\"neo4j\", \"123456\"),\n",
    "    \"encrypted\": False,\n",
    "}\n",
    "\n",
    "driver = GraphDatabase.driver(**CONFIG)"
   ]
  },
  {
   "cell_type": "code",
   "execution_count": 19,
   "metadata": {},
   "outputs": [
    {
     "name": "stdout",
     "output_type": "stream",
     "text": [
      "[['Den Haag', 0.0], ['Hoek van Holland', 27.0], ['Felixstowe', 234.0], ['Ipswich', 256.0], ['Colchester', 288.0], ['London', 394.0]]\n"
     ]
    }
   ],
   "source": [
    "def astar(context):\n",
    "    \"propertyKeyLat, propertyKeyLon计算地理坐标时使用\"\n",
    "    res = context.run(\"\"\"\n",
    "                        MATCH  (source:Place {id: \"Den Haag\"}),(destination:Place {id: \"London\"})\n",
    "                        CALL gds.alpha.shortestPath.astar.stream({\n",
    "                            nodeProjection: {Place: {properties: ['longitude', 'latitude']}},\n",
    "                            relationshipProjection: {EROAD: {type: 'EROAD',orientation: 'UNDIRECTED',properties: 'distance'}},\n",
    "                            startNode: source,\n",
    "                            endNode: destination,\n",
    "                            relationshipWeightProperty: 'distance',\n",
    "                            propertyKeyLat: 'latitude',\n",
    "                            propertyKeyLon: 'longitude'})\n",
    "                        YIELD nodeId, cost\n",
    "                        RETURN gds.util.asNode(nodeId).id AS station, cost\n",
    "                        \"\"\")\n",
    "    values = []\n",
    "    for record in res:\n",
    "        values.append(record.values())\n",
    "    return values\n",
    "\n",
    "\n",
    "with driver.session() as sess:\n",
    "    res = sess.read_transaction(astar)\n",
    "    print(res)"
   ]
  },
  {
   "cell_type": "markdown",
   "metadata": {},
   "source": [
    "## NEO4J Yen"
   ]
  },
  {
   "cell_type": "code",
   "execution_count": 20,
   "metadata": {},
   "outputs": [
    {
     "name": "stdout",
     "output_type": "stream",
     "text": [
      "[[0, ['Gouda', 'Rotterdam', 'Hoek van Holland', 'Felixstowe'], 265.0], [1, ['Gouda', 'Den Haag', 'Hoek van Holland', 'Felixstowe'], 266.0], [2, ['Gouda', 'Rotterdam', 'Den Haag', 'Hoek van Holland', 'Felixstowe'], 285.0], [3, ['Gouda', 'Den Haag', 'Rotterdam', 'Hoek van Holland', 'Felixstowe'], 298.0], [4, ['Gouda', 'Utrecht', 'Amsterdam', 'Den Haag', 'Hoek van Holland', 'Felixstowe'], 374.0]]\n"
     ]
    }
   ],
   "source": [
    "def yen(context):\n",
    "    \"计算 top k 的最短路径\"\n",
    "    res = context.run(\"\"\"\n",
    "                        MATCH (start:Place {id:\"Gouda\"}),\n",
    "                              (end:Place {id:\"Felixstowe\"})\n",
    "                        CALL gds.alpha.kShortestPaths.stream({\n",
    "                            nodeProjection:{Place: {properties: ['longitude', 'latitude']}},\n",
    "                            relationshipProjection: {EROAD: {type: 'EROAD',orientation: 'UNDIRECTED',properties: 'distance'}},\n",
    "                            startNode:start,\n",
    "                            endNode:end,\n",
    "                            k:5,\n",
    "                            relationshipWeightProperty: 'distance'})\n",
    "                        YIELD index, nodeIds, costs\n",
    "                        RETURN index, [node IN gds.util.asNodes(nodeIds) | node.id] AS places, reduce(acc = 0.0, cost IN costs | acc + cost) AS totalCost\n",
    "                        \"\"\")\n",
    "    values = []\n",
    "    for record in res:\n",
    "        values.append(record.values())\n",
    "    return values\n",
    "\n",
    "\n",
    "with driver.session() as sess:\n",
    "    res = sess.read_transaction(yen)\n",
    "    print(res)"
   ]
  },
  {
   "cell_type": "markdown",
   "metadata": {},
   "source": [
    "## 所有点对最短路径"
   ]
  },
  {
   "cell_type": "markdown",
   "metadata": {},
   "source": [
    "### SPARK"
   ]
  },
  {
   "cell_type": "code",
   "execution_count": 22,
   "metadata": {},
   "outputs": [
    {
     "name": "stdout",
     "output_type": "stream",
     "text": [
      "+----------------+--------------------------------------------------------+\n",
      "|id              |distances                                               |\n",
      "+----------------+--------------------------------------------------------+\n",
      "|Amsterdam       |[Immingham -> 1, Hoek van Holland -> 2, Colchester -> 4]|\n",
      "|Colchester      |[Colchester -> 0, Immingham -> 3, Hoek van Holland -> 3]|\n",
      "|Den Haag        |[Hoek van Holland -> 1, Immingham -> 2, Colchester -> 4]|\n",
      "|Doncaster       |[Immingham -> 1, Colchester -> 2, Hoek van Holland -> 4]|\n",
      "|Felixstowe      |[Hoek van Holland -> 1, Colchester -> 2, Immingham -> 4]|\n",
      "|Gouda           |[Hoek van Holland -> 2, Immingham -> 3, Colchester -> 5]|\n",
      "|Hoek van Holland|[Hoek van Holland -> 0, Immingham -> 3, Colchester -> 3]|\n",
      "|Immingham       |[Immingham -> 0, Colchester -> 3, Hoek van Holland -> 3]|\n",
      "|Ipswich         |[Colchester -> 1, Hoek van Holland -> 2, Immingham -> 4]|\n",
      "|London          |[Colchester -> 1, Immingham -> 2, Hoek van Holland -> 4]|\n",
      "|Rotterdam       |[Hoek van Holland -> 1, Immingham -> 3, Colchester -> 4]|\n",
      "|Utrecht         |[Immingham -> 2, Hoek van Holland -> 3, Colchester -> 5]|\n",
      "+----------------+--------------------------------------------------------+\n",
      "\n"
     ]
    }
   ],
   "source": [
    "result = g.shortestPaths([\"Colchester\", \"Immingham\", \"Hoek van Holland\"])\n",
    "result.sort([\"id\"]).select(\"id\", \"distances\").show(truncate=False)"
   ]
  },
  {
   "cell_type": "markdown",
   "metadata": {},
   "source": [
    "### NEO"
   ]
  },
  {
   "cell_type": "code",
   "execution_count": 23,
   "metadata": {},
   "outputs": [
    {
     "name": "stdout",
     "output_type": "stream",
     "text": [
      "[['Colchester', 'Gouda', 5.0], ['Utrecht', 'Ipswich', 5.0], ['London', 'Rotterdam', 5.0], ['London', 'Gouda', 5.0], ['Utrecht', 'Colchester', 5.0], ['Den Haag', 'Colchester', 4.0], ['Amsterdam', 'Colchester', 4.0], ['Utrecht', 'London', 4.0], ['Doncaster', 'Felixstowe', 4.0], ['Amsterdam', 'Ipswich', 4.0]]\n"
     ]
    }
   ],
   "source": [
    "def allpair(context):\n",
    "    res = context.run(\"\"\"\n",
    "                        CALL gds.alpha.allShortestPaths.stream({\n",
    "                            nodeProjection:{Place: {properties: ['longitude', 'latitude']}},\n",
    "                            relationshipProjection: {EROAD: {type: 'EROAD',orientation: 'UNDIRECTED'}},\n",
    "                            relationshipWeightProperty: null})\n",
    "                        YIELD sourceNodeId, targetNodeId, distance\n",
    "                        WHERE sourceNodeId < targetNodeId\n",
    "                        RETURN gds.util.asNode(sourceNodeId).id AS source,\n",
    "                               gds.util.asNode(targetNodeId).id AS target,\n",
    "                               distance\n",
    "                        ORDER BY distance DESC\n",
    "                        LIMIT 10\n",
    "                        \"\"\")\n",
    "    values = []\n",
    "    for record in res:\n",
    "        values.append(record.values())\n",
    "    return values\n",
    "\n",
    "\n",
    "with driver.session() as sess:\n",
    "    res = sess.read_transaction(allpair)\n",
    "    print(res)"
   ]
  },
  {
   "cell_type": "code",
   "execution_count": 24,
   "metadata": {},
   "outputs": [
    {
     "name": "stdout",
     "output_type": "stream",
     "text": [
      "[['Doncaster', 'Hoek van Holland', 529.0], ['Doncaster', 'Rotterdam', 528.0], ['Doncaster', 'Gouda', 524.0], ['Immingham', 'Felixstowe', 511.0], ['Den Haag', 'Doncaster', 502.0], ['Immingham', 'Ipswich', 489.0], ['Utrecht', 'Doncaster', 489.0], ['Utrecht', 'London', 460.0], ['Immingham', 'Colchester', 457.0], ['Immingham', 'Hoek van Holland', 455.0]]\n"
     ]
    }
   ],
   "source": [
    "def allpair(context):\n",
    "    \"加权\"\n",
    "    res = context.run(\"\"\"\n",
    "                        CALL gds.alpha.allShortestPaths.stream({\n",
    "                            nodeProjection:{Place: {properties: ['longitude', 'latitude']}},\n",
    "                            relationshipProjection: {EROAD: {type: 'EROAD',orientation: 'UNDIRECTED',properties: 'distance'}},\n",
    "                            relationshipWeightProperty: 'distance'})\n",
    "                        YIELD sourceNodeId, targetNodeId, distance\n",
    "                        WHERE sourceNodeId < targetNodeId\n",
    "                        RETURN gds.util.asNode(sourceNodeId).id AS source,\n",
    "                               gds.util.asNode(targetNodeId).id AS target,\n",
    "                               distance\n",
    "                        ORDER BY distance DESC\n",
    "                        LIMIT 10\n",
    "                        \"\"\")\n",
    "    values = []\n",
    "    for record in res:\n",
    "        values.append(record.values())\n",
    "    return values\n",
    "\n",
    "\n",
    "with driver.session() as sess:\n",
    "    res = sess.read_transaction(allpair)\n",
    "    print(res)"
   ]
  },
  {
   "cell_type": "markdown",
   "metadata": {},
   "source": [
    "## 单源最短路径"
   ]
  },
  {
   "cell_type": "markdown",
   "metadata": {},
   "source": [
    "### SPARK"
   ]
  },
  {
   "cell_type": "code",
   "execution_count": 26,
   "metadata": {},
   "outputs": [],
   "source": [
    "add_path_udf = F.udf(lambda path, id: path + [id], ArrayType(StringType()))\n",
    "\n",
    "\n",
    "def sssp(g, origin, column_name=\"cost\"):\n",
    "    \"和 加权最短路径部分的不同在于，这里计算与所有节点的最短路径\"\n",
    "    vertices = g.vertices \\\n",
    "        .withColumn(\"visited\", F.lit(False)) \\\n",
    "        .withColumn(\"distance\",\n",
    "            F.when(g.vertices[\"id\"] == origin, 0).otherwise(float(\"inf\"))) \\\n",
    "        .withColumn(\"path\", F.array())\n",
    "    cached_vertices = AM.getCachedDataFrame(vertices)\n",
    "    g2 = GraphFrame(cached_vertices, g.edges)\n",
    "\n",
    "    while g2.vertices.filter('visited == False').first():\n",
    "        current_node_id = g2.vertices.filter('visited == False').sort(\"distance\").first().id\n",
    "\n",
    "        msg_distance = AM.edge[column_name] + AM.src['distance']\n",
    "        msg_path = add_path_udf(AM.src[\"path\"], AM.src[\"id\"])\n",
    "        msg_for_dst = F.when(AM.src['id'] == current_node_id, F.struct(msg_distance, msg_path))\n",
    "        new_distances = g2.aggregateMessages(\n",
    "            F.min(AM.msg).alias(\"aggMess\"), sendToDst=msg_for_dst)\n",
    "\n",
    "        new_visited_col = F.when(\n",
    "            g2.vertices.visited | (g2.vertices.id == current_node_id), True).otherwise(False)\n",
    "        new_distance_col = F.when(new_distances[\"aggMess\"].isNotNull() &\n",
    "                                  (new_distances.aggMess[\"col1\"] < g2.vertices.distance),\n",
    "                                  new_distances.aggMess[\"col1\"]) \\\n",
    "                            .otherwise(g2.vertices.distance)\n",
    "        new_path_col = F.when(new_distances[\"aggMess\"].isNotNull() &\n",
    "                              (new_distances.aggMess[\"col1\"] < g2.vertices.distance),\n",
    "                              new_distances.aggMess[\"col2\"].cast(\"array<string>\")) \\\n",
    "                        .otherwise(g2.vertices.path)\n",
    "\n",
    "        new_vertices = g2.vertices.join(new_distances, on=\"id\", how=\"left_outer\") \\\n",
    "            .drop(new_distances[\"id\"]) \\\n",
    "            .withColumn(\"visited\", new_visited_col) \\\n",
    "            .withColumn(\"newDistance\", new_distance_col) \\\n",
    "            .withColumn(\"newPath\", new_path_col) \\\n",
    "            .drop(\"aggMess\", \"distance\", \"path\") \\\n",
    "            .withColumnRenamed('newDistance', 'distance') \\\n",
    "            .withColumnRenamed('newPath', 'path')\n",
    "        cached_new_vertices = AM.getCachedDataFrame(new_vertices)\n",
    "        g2 = GraphFrame(cached_new_vertices, g2.edges)\n",
    "\n",
    "    return g2.vertices \\\n",
    "                .withColumn(\"newPath\", add_path_udf(\"path\", \"id\")) \\\n",
    "                .drop(\"visited\", \"path\") \\\n",
    "                .withColumnRenamed(\"newPath\", \"path\")"
   ]
  },
  {
   "cell_type": "code",
   "execution_count": 27,
   "metadata": {},
   "outputs": [
    {
     "name": "stdout",
     "output_type": "stream",
     "text": [
      "+----------------+--------+-------------------------------------------------------------+\n",
      "|id              |distance|via                                                          |\n",
      "+----------------+--------+-------------------------------------------------------------+\n",
      "|Amsterdam       |0.0     |[]                                                           |\n",
      "|Utrecht         |46.0    |[]                                                           |\n",
      "|Den Haag        |59.0    |[]                                                           |\n",
      "|Gouda           |81.0    |[Utrecht]                                                    |\n",
      "|Rotterdam       |85.0    |[Den Haag]                                                   |\n",
      "|Hoek van Holland|86.0    |[Den Haag]                                                   |\n",
      "|Felixstowe      |293.0   |[Den Haag, Hoek van Holland]                                 |\n",
      "|Ipswich         |315.0   |[Den Haag, Hoek van Holland, Felixstowe]                     |\n",
      "|Colchester      |347.0   |[Den Haag, Hoek van Holland, Felixstowe, Ipswich]            |\n",
      "|Immingham       |369.0   |[]                                                           |\n",
      "|Doncaster       |443.0   |[Immingham]                                                  |\n",
      "|London          |453.0   |[Den Haag, Hoek van Holland, Felixstowe, Ipswich, Colchester]|\n",
      "+----------------+--------+-------------------------------------------------------------+\n",
      "\n"
     ]
    }
   ],
   "source": [
    "via_udf = F.udf(lambda path: path[1:-1], ArrayType(StringType()))\n",
    "\n",
    "result = sssp(g, \"Amsterdam\", \"cost\")\n",
    "(result\n",
    " .withColumn(\"via\", via_udf(\"path\"))\n",
    " .select(\"id\", \"distance\", \"via\")\n",
    " .sort(\"distance\")\n",
    " .show(truncate=False))"
   ]
  },
  {
   "cell_type": "markdown",
   "metadata": {},
   "source": [
    "### NEO"
   ]
  },
  {
   "cell_type": "code",
   "execution_count": 28,
   "metadata": {},
   "outputs": [
    {
     "name": "stdout",
     "output_type": "stream",
     "text": [
      "[['Amsterdam', 0.0], ['Utrecht', 46.0], ['Den Haag', 59.0], ['Gouda', 81.0], ['Rotterdam', 85.0], ['Hoek van Holland', 86.0], ['Felixstowe', 293.0], ['Ipswich', 315.0], ['Colchester', 347.0], ['Immingham', 369.0], ['Doncaster', 443.0], ['London', 453.0]]\n"
     ]
    }
   ],
   "source": [
    "def sssp(context):\n",
    "    \"deltaStepping: 将 Dijkstra 划分为多个可并行阶段\"\n",
    "    res = context.run(\"\"\"\n",
    "                        MATCH (n:Place {id:\"Amsterdam\"})\n",
    "                        CALL gds.alpha.shortestPath.deltaStepping.stream({\n",
    "                            nodeProjection:{Place: {properties: ['longitude', 'latitude']}},\n",
    "                            relationshipProjection: {EROAD: {type: 'EROAD',orientation: 'UNDIRECTED',properties: 'distance'}},\n",
    "                            startNode: n,\n",
    "                            relationshipWeightProperty: 'distance',\n",
    "                            delta: 3.0})\n",
    "                        YIELD nodeId, distance\n",
    "                        RETURN gds.util.asNode(nodeId).id AS destination, distance\n",
    "                        ORDER BY distance\n",
    "                        \"\"\")\n",
    "    values = []\n",
    "    for record in res:\n",
    "        values.append(record.values())\n",
    "    return values\n",
    "\n",
    "\n",
    "with driver.session() as sess:\n",
    "    res = sess.read_transaction(sssp)\n",
    "    print(res)"
   ]
  },
  {
   "cell_type": "markdown",
   "metadata": {},
   "source": [
    "## 最小生成树"
   ]
  },
  {
   "cell_type": "code",
   "execution_count": 29,
   "metadata": {},
   "outputs": [
    {
     "name": "stdout",
     "output_type": "stream",
     "text": [
      "[[13, 1, 874, 12]]\n"
     ]
    }
   ],
   "source": [
    "def minSpanTree(context):\n",
    "    \"Prim。  writeProperty向图中写入数据\"\n",
    "    res = context.run(\"\"\"\n",
    "                        MATCH (n:Place {id:\"Amsterdam\"})\n",
    "                        CALL gds.alpha.spanningTree.minimum.write({\n",
    "                            nodeProjection:{Place: {properties: ['longitude', 'latitude']}},\n",
    "                            relationshipProjection: {EROAD: {type: 'EROAD',orientation: 'UNDIRECTED',properties: 'distance'}},\n",
    "                            startNodeId: id(n),\n",
    "                            relationshipWeightProperty: 'distance',\n",
    "                            writeProperty: 'MINST',\n",
    "                            weightWriteProperty: 'writeCost'\n",
    "                        })\n",
    "                        YIELD createMillis, computeMillis, writeMillis, effectiveNodeCount\n",
    "                        RETURN createMillis, computeMillis, writeMillis, effectiveNodeCount\n",
    "                        \"\"\")\n",
    "    values = []\n",
    "    for record in res:\n",
    "        values.append(record.values())\n",
    "    return values\n",
    "\n",
    "\n",
    "with driver.session() as sess:\n",
    "    res = sess.write_transaction(minSpanTree)\n",
    "    print(res)"
   ]
  },
  {
   "cell_type": "markdown",
   "metadata": {},
   "source": [
    "可在 neo4j 浏览器中查询\n",
    "\n",
    "```\n",
    "MATCH path = (n:Place {id:\"Amsterdam\"})-[:MINST*]-()\n",
    "WITH relationships(path) AS rels\n",
    "UNWIND rels AS rel\n",
    "WITH DISTINCT rel AS rel\n",
    "RETURN startNode(rel).id AS source, endNode(rel).id AS destination, rel.writeCost AS cost\n",
    "```"
   ]
  },
  {
   "cell_type": "markdown",
   "metadata": {},
   "source": [
    "```\n",
    "╒══════════════════╤══════════════════╤══════╕\n",
    "│\"source\"          │\"destination\"     │\"cost\"│\n",
    "╞══════════════════╪══════════════════╪══════╡\n",
    "│\"Amsterdam\"       │\"Utrecht\"         │46.0  │\n",
    "├──────────────────┼──────────────────┼──────┤\n",
    "│\"Utrecht\"         │\"Gouda\"           │35.0  │\n",
    "├──────────────────┼──────────────────┼──────┤\n",
    "│\"Gouda\"           │\"Rotterdam\"       │25.0  │\n",
    "├──────────────────┼──────────────────┼──────┤\n",
    "│\"Rotterdam\"       │\"Den Haag\"        │26.0  │\n",
    "├──────────────────┼──────────────────┼──────┤\n",
    "│\"Den Haag\"        │\"Hoek van Holland\"│27.0  │\n",
    "├──────────────────┼──────────────────┼──────┤\n",
    "│\"Hoek van Holland\"│\"Felixstowe\"      │207.0 │\n",
    "├──────────────────┼──────────────────┼──────┤\n",
    "│\"Felixstowe\"      │\"Ipswich\"         │22.0  │\n",
    "├──────────────────┼──────────────────┼──────┤\n",
    "│\"Ipswich\"         │\"Colchester\"      │32.0  │\n",
    "├──────────────────┼──────────────────┼──────┤\n",
    "│\"Colchester\"      │\"London\"          │106.0 │\n",
    "├──────────────────┼──────────────────┼──────┤\n",
    "│\"London\"          │\"Doncaster\"       │277.0 │\n",
    "├──────────────────┼──────────────────┼──────┤\n",
    "│\"Doncaster\"       │\"Immingham\"       │74.0  │\n",
    "└──────────────────┴──────────────────┴──────┘\n",
    "```"
   ]
  },
  {
   "cell_type": "markdown",
   "metadata": {},
   "source": [
    "## 随机游走"
   ]
  },
  {
   "cell_type": "code",
   "execution_count": 30,
   "metadata": {},
   "outputs": [
    {
     "name": "stdout",
     "output_type": "stream",
     "text": [
      "[['London'], ['Colchester'], ['London'], ['Doncaster'], ['Immingham'], ['Doncaster']]\n"
     ]
    }
   ],
   "source": [
    "def randwalk(context):\n",
    "    \"steps： 跳数； walks: 多少次walk\"\n",
    "    res = context.run(\"\"\"\n",
    "                        MATCH (source:Place {id: \"London\"})\n",
    "                        CALL gds.alpha.randomWalk.stream({nodeProjection:'*',\n",
    "                            relationshipProjection: {EROAD: {type: 'EROAD',orientation: 'UNDIRECTED'}},\n",
    "                            start: id(source),\n",
    "                            steps: 5,\n",
    "                            walks: 1})\n",
    "                        YIELD nodeIds\n",
    "                        UNWIND nodeIds AS nodeId\n",
    "                        RETURN gds.util.asNode(nodeId).id AS place\n",
    "                        \"\"\")\n",
    "    values = []\n",
    "    for record in res:\n",
    "        values.append(record.values())\n",
    "    return values\n",
    "\n",
    "\n",
    "with driver.session() as sess:\n",
    "    res = sess.read_transaction(randwalk)\n",
    "    print(res)"
   ]
  },
  {
   "cell_type": "code",
   "execution_count": null,
   "metadata": {},
   "outputs": [],
   "source": []
  }
 ],
 "metadata": {
  "kernelspec": {
   "display_name": "Pyspark env",
   "language": "python",
   "name": "spark"
  },
  "language_info": {
   "codemirror_mode": {
    "name": "ipython",
    "version": 3
   },
   "file_extension": ".py",
   "mimetype": "text/x-python",
   "name": "python",
   "nbconvert_exporter": "python",
   "pygments_lexer": "ipython3",
   "version": "3.6.8"
  }
 },
 "nbformat": 4,
 "nbformat_minor": 4
}
